{
  "nbformat": 4,
  "nbformat_minor": 0,
  "metadata": {
    "colab": {
      "name": "TUTORIAL 3(Keywords and identifiers).ipynb",
      "provenance": [],
      "authorship_tag": "ABX9TyNadBMwvgQ1q172VOSV9fpq",
      "include_colab_link": true
    },
    "kernelspec": {
      "name": "python3",
      "display_name": "Python 3"
    }
  },
  "cells": [
    {
      "cell_type": "markdown",
      "metadata": {
        "id": "view-in-github",
        "colab_type": "text"
      },
      "source": [
        "<a href=\"https://colab.research.google.com/github/Shambhavi-Gupta/Tutorial3_keywords_and_identifiers/blob/main/TUTORIAL_3(Keywords_and_identifiers).ipynb\" target=\"_parent\"><img src=\"https://colab.research.google.com/assets/colab-badge.svg\" alt=\"Open In Colab\"/></a>"
      ]
    },
    {
      "cell_type": "code",
      "metadata": {
        "id": "w5ezrr5AUwJa",
        "colab": {
          "base_uri": "https://localhost:8080/"
        },
        "outputId": "60788710-223b-4b9b-c7aa-ccd6928c53ce"
      },
      "source": [
        "def my_func(a,b):  \n",
        "    c = a+b  \n",
        "    print(c)  \n",
        "my_func(10,20)  "
      ],
      "execution_count": null,
      "outputs": [
        {
          "output_type": "stream",
          "text": [
            "30\n"
          ],
          "name": "stdout"
        }
      ]
    },
    {
      "cell_type": "code",
      "metadata": {
        "id": "IFtyp8tbU11L",
        "colab": {
          "base_uri": "https://localhost:8080/"
        },
        "outputId": "74df1497-99cd-4031-a2b2-8a2dec9bbe22"
      },
      "source": [
        "a = 1  \n",
        "while a < 4:  \n",
        "  a += 1   \n",
        "  if a == 2:  \n",
        "    continue  \n",
        "  print(a)  "
      ],
      "execution_count": null,
      "outputs": [
        {
          "output_type": "stream",
          "text": [
            "3\n",
            "4\n"
          ],
          "name": "stdout"
        }
      ]
    },
    {
      "cell_type": "code",
      "metadata": {
        "id": "H3kKCaX9U8dc",
        "colab": {
          "base_uri": "https://localhost:8080/"
        },
        "outputId": "9dc38b44-1ff0-4035-cf68-76e94550e788"
      },
      "source": [
        "i = 18  \n",
        "if (1 < 12):  \n",
        "    print(\"I am less than 18\")  "
      ],
      "execution_count": null,
      "outputs": [
        {
          "output_type": "stream",
          "text": [
            "I am less than 18\n"
          ],
          "name": "stdout"
        }
      ]
    },
    {
      "cell_type": "code",
      "metadata": {
        "id": "bLrKkBueVBUv",
        "colab": {
          "base_uri": "https://localhost:8080/"
        },
        "outputId": "ae485d43-d5b7-490d-c1b6-8429cd6ff05c"
      },
      "source": [
        "n = 11  \n",
        "if(n%2 == 0):  \n",
        "    print(\"Even\")  \n",
        "else:  \n",
        "    print(\"odd\")  "
      ],
      "execution_count": null,
      "outputs": [
        {
          "output_type": "stream",
          "text": [
            "odd\n"
          ],
          "name": "stdout"
        }
      ]
    },
    {
      "cell_type": "code",
      "metadata": {
        "id": "2Gz8C1jWVLAU",
        "colab": {
          "base_uri": "https://localhost:8080/"
        },
        "outputId": "3304db2b-ed63-447d-a159-3506fc41a37f"
      },
      "source": [
        "num = 10\n",
        "while num>5:\n",
        "    print(num)\n",
        "    num -= 1           # num = num-1"
      ],
      "execution_count": null,
      "outputs": [
        {
          "output_type": "stream",
          "text": [
            "10\n",
            "9\n",
            "8\n",
            "7\n",
            "6\n"
          ],
          "name": "stdout"
        }
      ]
    },
    {
      "cell_type": "code",
      "metadata": {
        "id": "k2aEsfmUVOpY",
        "colab": {
          "base_uri": "https://localhost:8080/"
        },
        "outputId": "7786c226-b4f8-45b0-a887-663b2915b3d0"
      },
      "source": [
        "a = 1\n",
        "print(a)\n",
        "\n",
        "_z = 10\n",
        "print(_z)\n",
        "\n",
        "p_q = 20\n",
        "print(p_q)"
      ],
      "execution_count": null,
      "outputs": [
        {
          "output_type": "stream",
          "text": [
            "1\n",
            "10\n",
            "20\n"
          ],
          "name": "stdout"
        }
      ]
    },
    {
      "cell_type": "code",
      "metadata": {
        "id": "tz6nm8xXVYRl",
        "colab": {
          "base_uri": "https://localhost:8080/"
        },
        "outputId": "a064b019-2ebc-4f41-a4da-96fb48688347"
      },
      "source": [
        "myVar=\"SUBSCRIBE FUN WITH DATA SCIENCE\"\n",
        "print(myVar)\n",
        "\n",
        "var1=1\n",
        "print(var1)\n",
        "\n",
        "var2=2\n",
        "print(var2)"
      ],
      "execution_count": null,
      "outputs": [
        {
          "output_type": "stream",
          "text": [
            "SUBSCRIBE FUN WITH DATA SCIENCE\n",
            "1\n",
            "2\n"
          ],
          "name": "stdout"
        }
      ]
    },
    {
      "cell_type": "markdown",
      "metadata": {
        "id": "dF3mB2UWV4v3"
      },
      "source": [
        "#99: identifier can’t be only digits\n",
        "#9abc: identifier can’t start with number\n",
        "#x+y: the only special character allowed is an underscore\n",
        "#for: it’s a reserved keyword\n"
      ]
    },
    {
      "cell_type": "code",
      "metadata": {
        "id": "UL_0J561V_bT"
      },
      "source": [
        ""
      ],
      "execution_count": null,
      "outputs": []
    }
  ]
}